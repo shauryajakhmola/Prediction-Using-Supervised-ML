{
 "cells": [
  {
   "cell_type": "markdown",
   "id": "fa924ea4",
   "metadata": {},
   "source": [
    "# Author :- Shaurya Jakhmola\n",
    "# EMAIL :- shauryajakhmola173@gmail.com\n",
    "━━━━━━━━━━━━━━━━━━━━━━━━━━━━━━━━━━━━━━━━━━━━"
    "𝗗𝗮𝘁𝗮 𝗦𝗰𝗶𝗲𝗻𝗰𝗲 & 𝗕𝘂𝘀𝗶𝗻𝗲𝘀𝘀 𝗔𝗻𝗮𝗹𝘆𝘁𝗶𝗰𝘀\n"
    "━━━━━━━━━━━━━━━━━━━━━━━━━━━━━━━━━━━━━━━━━━━━"
    "# Prediction Using SUPERVISED ML\n",
    "𝗣𝗿𝗲𝗱𝗶𝗰𝘁 𝘁𝗵𝗲 𝗽𝗲𝗿𝗰𝗲𝗻𝘁𝗮𝗴𝗲 𝗼𝗳 𝗮 𝘀𝘁𝘂𝗱𝗲𝗻𝘁 𝗯𝗮𝘀𝗲𝗱 𝗼𝗻 𝘁𝗵𝗲 𝗻𝘂𝗺𝗯𝗲𝗿 𝗼𝗳 𝗵𝗼𝘂𝗿𝘀.\n",
    "\n",
    "𝗗𝗮𝘁𝗮 𝗰𝗮𝗻 𝗯𝗲 𝗳𝗼𝘂𝗻𝗱 𝗮𝘁 http://bit.ly/w-data\n",
    "\n",
    "𝗪𝗵𝗮𝘁 𝘄𝗶𝗹𝗹 𝗯𝗲 𝘁𝗵𝗲 𝗽𝗿𝗲𝗱𝗶𝗰𝘁𝗲𝗱 𝘀𝗰𝗼𝗿𝗲 𝗶𝗳 𝗮 𝘀𝘁𝘂𝗱𝗲𝗻𝘁 𝘀𝘁𝘂𝗱𝗶𝗲𝘀 𝗳𝗼𝗿 𝟗.𝟐𝟓𝗵𝗿/𝗱𝗮𝘆?"
   ]
  },
  {
   "cell_type": "code",
   "execution_count": 1,
   "id": "2a389789",
   "metadata": {},
   "outputs": [],
   "source": [
    "#importing useful libraries\n",
    "import numpy as num\n",
    "import pandas as pd\n",
    "import matplotlib.pyplot as plt"
   ]
  },
  {
   "cell_type": "code",
   "execution_count": 2,
   "id": "9e9579c2",
   "metadata": {},
   "outputs": [],
   "source": [
    "#importing datas\n",
    "dataset = pd.read_csv(\"C:/Users/shaur/Documents/The Sparks Foundation (TFS)/TASK-01/dataset.txt\")"
   ]
  },
  {
   "cell_type": "code",
   "execution_count": 3,
   "id": "8d7fe610",
   "metadata": {},
   "outputs": [
    {
     "data": {
      "text/html": [
       "<div>\n",
       "<style scoped>\n",
       "    .dataframe tbody tr th:only-of-type {\n",
       "        vertical-align: middle;\n",
       "    }\n",
       "\n",
       "    .dataframe tbody tr th {\n",
       "        vertical-align: top;\n",
       "    }\n",
       "\n",
       "    .dataframe thead th {\n",
       "        text-align: right;\n",
       "    }\n",
       "</style>\n",
       "<table border=\"1\" class=\"dataframe\">\n",
       "  <thead>\n",
       "    <tr style=\"text-align: right;\">\n",
       "      <th></th>\n",
       "      <th>Hours</th>\n",
       "      <th>Scores</th>\n",
       "    </tr>\n",
       "  </thead>\n",
       "  <tbody>\n",
       "    <tr>\n",
       "      <th>0</th>\n",
       "      <td>2.5</td>\n",
       "      <td>21</td>\n",
       "    </tr>\n",
       "    <tr>\n",
       "      <th>1</th>\n",
       "      <td>5.1</td>\n",
       "      <td>47</td>\n",
       "    </tr>\n",
       "    <tr>\n",
       "      <th>2</th>\n",
       "      <td>3.2</td>\n",
       "      <td>27</td>\n",
       "    </tr>\n",
       "    <tr>\n",
       "      <th>3</th>\n",
       "      <td>8.5</td>\n",
       "      <td>75</td>\n",
       "    </tr>\n",
       "    <tr>\n",
       "      <th>4</th>\n",
       "      <td>3.5</td>\n",
       "      <td>30</td>\n",
       "    </tr>\n",
       "  </tbody>\n",
       "</table>\n",
       "</div>"
      ],
      "text/plain": [
       "   Hours  Scores\n",
       "0    2.5      21\n",
       "1    5.1      47\n",
       "2    3.2      27\n",
       "3    8.5      75\n",
       "4    3.5      30"
      ]
     },
     "execution_count": 3,
     "metadata": {},
     "output_type": "execute_result"
    }
   ],
   "source": [
    "#reading the top datas\n",
    "dataset.head()"
   ]
  },
  {
   "cell_type": "code",
   "execution_count": 4,
   "id": "792b7645",
   "metadata": {},
   "outputs": [
    {
     "data": {
      "image/png": "iVBORw0KGgoAAAANSUhEUgAAAX4AAAEWCAYAAABhffzLAAAAOXRFWHRTb2Z0d2FyZQBNYXRwbG90bGliIHZlcnNpb24zLjQuMywgaHR0cHM6Ly9tYXRwbG90bGliLm9yZy/MnkTPAAAACXBIWXMAAAsTAAALEwEAmpwYAAAlIElEQVR4nO3debRU5Znv8e9PQAbFKJOiiDjQiAqCQRA1Ng7RDI65rRiJ1xgTYjQOsW+Utm01fbWvrmTFTmI6LdEoaRAlGqKtuTZIgtEbRUEcg0LH4AmKckQREFHA5/6xd2l5PEOdw9m1a/h91qpVVbv28FRxeOqtd7/7eRURmJlZ/dgm7wDMzKy8nPjNzOqME7+ZWZ1x4jczqzNO/GZmdcaJ38yszjjxm5nVGSd+6zSSlks6psmyr0p6JK+YOlP6XrZIWi9praSnJB2fd1zFJIWkffKOwyqbE79VJUldczr0oxGxPbAjcAswS1Kf9uwgx9jNACd+KzNJwyXNl7RG0vOSTix6bb6krxc9/9ivhbQ1e76kZcAyJW6QtErS25KekXRAM8c8XdLCJsu+I+ne9PEXJP1J0jpJr0j6X229j4j4APgF0BPYS1J3ST+Q1CDpdUn/Lqlnuv8JklZIukzSa8CtkrpIulzSn9PjLpK0e7r+vpLmSnpT0ouSTiuK+zZJP5V0f7rdAkl7p6/9IV3t6fRXyURJO0m6T1KjpLfSx4OK9renpD+k+3ow3ff0otcPkfTH9N/raUkT2vpsrPI58VvZSOoG/CcwBxgAXADMkDSsHbs5GRgH7AccCxwB/A1JC3wisLqZbe4FhkkaWrTsDOD29PEtwDcjojdwAPC7Et5LV+DrwHpgGXB9GscoYB9gN+DKok12AfoAewCTgUuALwNfAHYAvgZskLQdMDeNbUC6zr9J2r9oX18GvgfsBPw3cC1ARByRvn5gRGwfEXeS/B+/NT3uYOBd4Maifd0OPA70Ba4Gzix6j7sB9wPXpLH/L+BuSf3b+nyswkWEb751yg1YTpII1xTdNgCPpK9/BngN2KZom5nA1enj+cDXi177amHb9HkARxU9PwpYChxSvM8WYpsOXJk+HgqsA3qlzxuAbwI7tLGPrwKb0/f1BvAYcAwg4B1g76J1xwN/SR9PAN4HehS9/iJwUjPHmAg83GTZTcBV6ePbgJuLXvsC8EKTz2ifVt7DKOCt9PHg9P30avI5TU8fXwb8R5Pt/ws4K++/Nd+27uYWv3W2kyNix8INOK/otV2Bv0bSTVLwMknruFR/LTyIiN+RtF5/CrwuaaqkHVrY7naSljIkrf3fRMSG9Pn/IEmgL0t6SNL4Vo7/WPre+kXEIRHxINAf6AUsSrtE1gAPpMsLGiNiY9Hz3YE/N7P/PYBxhf2k+5pE8ouh4LWixxuA7VsKVlIvSTdJelnSWuAPwI6SupD8e7xZ9DlA0eebxnJqk1gOBwa2dDyrDk78Vk6vArtLKv67Gwy8kj5+hySBFhQnu4KPlZONiB9HxKeB/Um6Wr7bwrHnAP0kjSL5Aih08xART0TESSRdK78BZpX4fgreIOlC2b/oS+9TkZwEbjZukgS7dzP7+ivwUPGXZyTdNt9qZ0wFfw8MA8ZFxA4kXWOQ/EpZCfSRVPyZ794klv9oEst2EXFdB2OxCuHEb+W0gCS5XyqpW3qi8ATgjvT1p4Avpa3UfYBzWtuZpIMljUvPHbwDbAS2NLduRGwG7gK+T9JfPTfdx7aSJkn6VERsAta2tI+WpL9gfg7cIGlAut/dJB3XymY3A/9b0tD0JPVISX2B+4C/kXRm+hl1S9/n8BLDeR3Yq+h5b5IvpTVKRh9dVRT3y8BC4Or0cxhP8u9RMB04QdJx6cnoHumJ6kFYVXPit7KJiPeBE4HPk7SS/w34nxHxQrrKDSR94a8D04AZbexyB5KE+xZJl9Fq4AetrH87SZ/8r9IvgoIzgeVpV8i5wFfa8bYKLiM50fpYup8HSVraLfkhyS+LOSRfNrcAPSNiHclJ69NJfiG9RnLiuHuJcVwNTEu7Zk4D/pVk5FHhnMQDTdafRHI+YjXJSdw7gfcAIuKvwEnA5UAjyS+A7+K8UfUU4YlYzCwh6U6Sk8VXtbmyVS1/c5vVsbQbaW9J20j6HEkL/zc5h2UZ8xWEZvVtF+DXJOP4VwDfiojF+YZkWXNXj5lZnXFXj5lZnamKrp5+/frFkCFD8g7DzKyqLFq06I2I+ESJjapI/EOGDGHhwoVtr2hmZh+S9HJzy93VY2ZWZ5z4zczqjBO/mVmdqYo+/uZs2rSJFStWsHHjxrZXrgM9evRg0KBBdOvWLe9QzKzCVW3iX7FiBb1792bIkCFIyjucXEUEq1evZsWKFey55555h2NmFa5qu3o2btxI37596z7pA0iib9++/vVjVuFWrd3IaTc9yqp1+f5frdrEDzjpF/FnYVb5fjxvGU8sf5MfP7gs1ziqtqvHzKxaDLvi//Le5o8mnpu+oIHpCxro3nUbXrzm82WPp6pb/JXg2muvZf/992fkyJGMGjWKBQsW5B2SmVWYhy89khNH7UqPbknK7dFtG04atSsPX3ZkLvHUVYt/1dqNfHvmYm48YzQDevfY6v09+uij3HfffTz55JN0796dN954g/fff7/D+9u8eTNdu9bVP4lZXRiwQw96d+/Ke5s/oHvXbXhv8wf07t61U/JQR9RVi7+z+9dWrlxJv3796N49mRypX79+7LrrrjzxxBMceuihHHjggYwdO5Z169axceNGzj77bEaMGMHo0aP5/e9/D8Btt93GqaeeygknnMCxxx7LO++8w9e+9jUOPvhgRo8ezT333APA888/z9ixYxk1ahQjR45k2bJ8+wjNrH3eWP8ek8btwezzDmPSuD1oXP9ebrFURVnmMWPGRNNaPUuWLGH48NKmIW3av1awtf1r69ev5/DDD2fDhg0cc8wxTJw4kfHjx7Pvvvty5513cvDBB7N27Vp69erFj370I5577jluvfVWXnjhBY499liWLl3KHXfcwRVXXMEzzzxDnz59uPzyy9lvv/34yle+wpo1axg7diyLFy9mypQpHHLIIUyaNIn333+fLVu20LNnzw5/JmZW+yQtiogxTZfXRYs/q/617bffnkWLFjF16lT69+/PxIkTuemmmxg4cCAHH3wwADvssANdu3blkUce4cwzzwRg3333ZY899mDp0qUAfPazn6VPnz4AzJkzh+uuu45Ro0YxYcIENm7cSENDA+PHj+df/uVfuP7663n55Zc/kfTNzEpVFx3KWfavdenShQkTJjBhwgRGjBjBT3/602aHVrb2y2q77bb72Hp33303w4Z9fJ7u4cOHM27cOO6//36OO+44br75Zo466qitjt/M6k9dtPghm/61F1988WN97U899RTDhw/n1Vdf5YknngBg3bp1bN68mSOOOIIZM2YAsHTpUhoaGj6R3AGOO+44fvKTn3z4RbF4cTIL3ksvvcRee+3FhRdeyIknnsgzzzyz1fGbWX2qixY/wE1nftTNdc3JB3TKPtevX88FF1zAmjVr6Nq1K/vssw9Tp07l7LPP5oILLuDdd9+lZ8+ePPjgg5x33nmce+65jBgxgq5du3Lbbbd9eFK42D/90z9x8cUXM3LkSCKCIUOGcN9993HnnXcyffp0unXrxi677MKVV17ZKe/BzOpPXZzcrRf+TMysWF2f3DUzs49kmvglXSTpOUnPS7o4XdZH0lxJy9L7nbKMwczMPi6zxC/pAOAbwFjgQOB4SUOBKcC8iBgKzEufd0g1dFOViz8LMytVli3+4cBjEbEhIjYDDwGnACcB09J1pgEnd2TnPXr0YPXq1U54fFSPv0ePfC7/NrPqkuWonueAayX1Bd4FvgAsBHaOiJUAEbFS0oDmNpY0GZgMMHjw4E+8PmjQIFasWEFjY2NG4VeXwgxcZmZtySzxR8QSSdcDc4H1wNPA5nZsPxWYCsmonqavd+vWzbNNmZl1QKYndyPilog4KCKOAN4ElgGvSxoIkN6vyjIGM7NqldWMXVmP6hmQ3g8GvgTMBO4FzkpXOQu4J8sYzMyqVVYzdmV6AZekh4G+wCbgkoiYl/b5zwIGAw3AqRHxZmv7ae4CLjOzWtVZFYVbuoAr05INEfGZZpatBo7O8rhmZtXs4UuP5JrfLmHO86+xcdMH9Oi2Dcftvwv/+MXOuTLfV+6amVWYrGfscuI3s5qQ1YnQvGQ5Y1fVFmkzMyt2xexnmfF4A5PGDuaaU0bkHU5FyKWP38wsa01PhE5f0MD0BQ1bPbVqLXNXj5lVpULXzuzzDs1katVa5sRvZlWpMMb99gUNmZ4IrUXu6jGzqtJc1w7ANoLZ5x3G7Y830FgjJ3iz4pO7ZlZVVq3d2OIYd7fyP84zcJlZTch6jHs9cFePmVWdwhj3M8YOdtdOB7irx8ysRrmrx8zMACd+M7O648RvZlZnnPjNzJqotYJvTTnxm5k1kdXMV5Ui0+Gckr4DfB0I4FngbKAXcCcwBFgOnBYRb2UZh5lZKeql4FtmLX5JuwEXAmMi4gCgC3A6MAWYFxFDgXnpczOz3D186ZF1UfAt666erkBPSV1JWvqvAicB09LXpwEnZxyDmVlJ6uWq4My6eiLiFUk/IJlQ/V1gTkTMkbRzRKxM11kpaUBz20uaDEwGGDx4cFZhmpl9TD1cFZzZlbuSdgLuBiYCa4BfAXcBN0bEjkXrvRURO7W2L1+5a2bWfnlcuXsM8JeIaIyITcCvgUOB1yUNTIMaCKzKMAYzM2siy8TfABwiqZckAUcDS4B7gbPSdc4C7skwBjMzayLLPv4Fku4CngQ2A4uBqcD2wCxJ55B8OZyaVQxmZvZJmY7jj4irgKuaLH6PpPVvZmY58JW7ZmZ1xonfzLZKrde1qUVO/Ga2VWq9rk0t8tSLZtYh9VLXpha5xW9mHVIvdW2aqoWuLSd+M+uQeqlr01QtdG25q8fMOqwe6toU1FLXVma1ejqTa/WYWd5Wrd3INb9dwpznX2Pjpg/o0W0bjtt/F/7xi8Mr9ldOHrV6zMxqRi11bbmrx8ysRLXSteWuHjOzGuWuHjMzA5z4zczqTkmJX9Lhks5OH/eXtGe2YZmZWVbaTPySrgIuA/4hXdQNmJ5lUGZmlp1SWvynACcC7wBExKtA7yyDMjOz7JSS+N+PZOhPAEjarpQdSxom6ami21pJF0vqI2mupGXpfasTrZuZWecqJfHPknQTsKOkbwAPAj9va6OIeDEiRkXEKODTwAZgNjAFmBcRQ4F56XMzMyuTVi/gSidJvxPYF1gLDAOujIi57TzO0cCfI+JlSScBE9Ll04D5JOcQzMysDFpN/BERkn4TEZ8G2pvsi50OzEwf7xwRK9P9r5Q0YCv2a2Y1ZNXajXx75mJuPGN0VZZCqBaldPU8Jungjh5A0rYkJ4d/1c7tJktaKGlhY2NjRw9vZlWkFkoeV4M2SzZI+hNJF89ykpE9IvkxMLKkAyRdO+dHxLHp8xeBCWlrfyAwPyKGtbYPl2wwq21NSx4XVGPJ40rSUsmGUoq0be2n/mU+6uYBuBc4C7guvb9nK/dvZlXu4UuPbLHksXW+Nrt6IuJlYEfghPS2Y7qsTZJ6AZ8Ffl20+Drgs5KWpa9d186YzazG1FLJ42pQypW7FwEzgAHpbbqkC0rZeURsiIi+EfF20bLVEXF0RAxN79/saPBm9pFqnwu2UPJ49nmHMWncHjSufy/vkGpWKX38zwDjI+Kd9Pl2wKOl9vF3Bvfxm7XtitnPMuPxBiaNHcw1p4zIOxyrAFvTxy9gS9HzLekyM6sAtTQXrJVHKcM5bwUWSLpa0tXAY8AtmUZlZiV7+NIjOXHUrvTolvx37tFtG04atSsPX3ZkzpFZpWqzxR8RP5Q0HzicpKV/dkQszjowMyuNT4xae7WZ+CUdAjwfEU+mz3tLGhcRCzKPzsxKUitzwVp5lHJydzFwUFqhE0nbAAsj4qAyxAf45K6ZWUdszZy7iqJvh4j4gNJOCpuZWQUqJfG/JOlCSd3S20XAS1kHZmZm2Sgl8Z8LHAq8kt7GAZOzDMrMzLJTyqieVSRllc3MrAa02OKX9A1JQ9PHkvQLSW9LekZS2U7smplZ52qtq+ciklLMkFTYPBDYC7gE+FG2YZmZWVZaS/ybI2JT+vh44JdpgbUHgZImXDezzlXthdisMrSW+D+QNFBSD5I5cx8seq1ntmGZWXM8Q5V1htZO7l4JLAS6APdGxPMAkv4WD+c0KysXYrPO1GKLPyLuA/YAhkfEN4peWghMzDowM/uIC7FZZ2p1OGdEbAbearLsnUwjMrNPcCE260ylXMDVYZJ2lHSXpBckLZE0XlIfSXMlLUvvd8oyBrNK09ETtJ6hyjpLm0Xatmrn0jTg4Yi4WdK2QC/gcuDNiLhO0hRgp4i4rLX9uEib1RLPlGXl0lKRtlKqcwqYBOwVEf8saTCwS0Q83sZ2OwBPp9tF0fIXgQkRsVLSQGB+RAxrbV9O/FYLmp6gLfAJWsvK1lTn/DdgPMlFXADrgJ+WsN1eQCNwq6TFkm5O5+vdOSJWAqT3A1oIeLKkhZIWNjY2lnA4s8rmE7RWKUpJ/OMi4nxgI0BEvAVsW8J2XYGDgJ9FxGjgHWBKqYFFxNSIGBMRY/r371/qZmYVyydorVKUkvg3SeoCFCZi6Q988vfqJ60AVhTN1HUXyRfB62kXD+n9qnZHbValfILWKkEpE6r8GJgNDJB0LfB3wBVtbRQRr0n6q6RhEfEiydW/f0pvZwHXpff3dDR4s2pz05kfdbdec/IBOUZi9ayUsswzJC0iSdwCTo6IJSXu/wJgRjqi5yXgbJJfGbMknQM0AKd2KHIzM+uQUiZb70PSHTOzaFm3ogJuLYqIp4BPnFEm+RIxM7MclNLH/yTJ6JylwLL08V8kPSnp01kGZ2Zmna+UxP8A8IWI6BcRfYHPA7OA80iGepqZWRUpJfGPiYj/KjyJiDnAERHxGNA9s8jMzCwTpYzqeVPSZcAd6fOJwFvpEM9ShnWamVkFKaXFfwYwCPgNydDLwemyLsBpmUVmZmaZKGU45xskwzKb89+dG46ZmWWtzRa/pP6Svi/pt5J+V7iVIzizcvFctlZPSunqmQG8AOwJfA9YDjyRYUxmZee5bK2elFKWeVFEfFrSMxExMl32UET8bVkixGWZLTsulWy1bGvKMheu0F0p6YuSRpOc7DWrei6VbPWolOGc10j6FPD3wE+AHYCLswzKrFxcKtnqUSmJ/62IeBt4GzgSQNJhmUZlVkaFUslnjB3M7Y830OgTvFbjSunjfzIiDmprWZbcx29m1n4t9fG32OKXNB44FOgv6ZKil3YguXjLzMyqUGtdPdsC26fr9C5avpZkMhYzM6tCLSb+iHgIeEjSbRHxchljMjOzDJVycre7pKnAkOL1I+KotjaUtBxYB2wBNkfEmHRilzvT/S0HTksncDczszIoJfH/Cvh34GaSBN5eR6b1fgqmAPMi4jpJU9Lnl3Vgv2Zm1gGlJP7NEfGzTjzmScCE9PE0YD5O/GZmZVPKlbv/Kek8SQMl9SncStx/AHMkLZI0OV22c0SsBEjvBzS3oaTJkhZKWtjY2Fji4czMrC2ltPjPSu+/W7QsgL1K2PawiHhV0gBgrqQXSg0sIqYCUyEZx1/qdmZm1rpS6vHv2dGdR8Sr6f0qSbOBscDrkgZGxEpJA4FVHd2/mZm1Xyn1+HtJuiId2YOkoZKOL2G77ST1LjwGjgWeA+7lo18RZ5HM6mVmZmVSSlfPrcAikqt4AVaQjPS5r43tdgZmSyoc5/aIeEDSE8AsSecADcCpHQnczMw6ppTEv3dETJT0ZYCIeFdpNm9NRLwEHNjM8tXA0e2O1KxCrFq7kW/PXMyNZ4x2FU+rSqWM6nlfUk+SE7pI2ht4L9OozCqYZ+uyaldKi/8q4AFgd0kzgMOAr2YZlFklajpb1/QFDUxf0ODZuqzqtNnij4i5wJdIkv1MYExEzM82LLPK49m6rFaUMqrnFJKrd++PiPuAzZJOzjwyswrj2bqsVpTSx39VOgMXABGxhqT7x6zuFGbrmn3eYUwatweN6326y6pPKX38zX05lLKdWc256cyPJjO65uQDcozErONKafEvlPRDSXtL2kvSDSTj+s3MrAqVkvgvAN4nqaE/C3gXOD/LoMzMLDutdtlI6gLcExHHlCkeMzPLWKst/ojYAmyQ9KkyxWNmZhkr5STtRuBZSXOBdwoLI+LCzKIyM7PMlJL4709vZmZWA0qpxz8trdUzOCJeLENMVoFcmMysdpRy5e4JwFMk9XqQNErSvRnHZRXGhcnMakcpXT1Xk8ycNR8gIp6S1OFZuay6VHNhMv9KMWteKeP4NxeXbEh5Dtw6Uc2Fyfwrxax5pbT4n5N0BtBF0lDgQuCPpR4gvRZgIfBKRBwvqQ/JxWBDgOXAaRHxVnsDt/KoxsJk1fwrxawcSr1yd3+SyVduB94GLm7HMS4ClhQ9nwLMi4ihwLz0uVWwaitMVs2/UszKocUWv6QewLnAPsCzwPiI2NyenUsaBHwRuBa4JF18EjAhfTyN5NzBZe3Zr5VXtRUmq8ZfKWbl1FpXzzRgE/Aw8HlgOO1r6QP8K3Ap0Lto2c4RsRIgIlZKGtDOfZq1qfAr5Yyxg7n98QYa123MOySzitFa4t8vIkYASLoFeLw9O5Z0PLAqIhZJmtDewCRNBiYDDB48uL2bW52rtl8pZuXUWh//psKD9nbxpA4DTpS0HLgDOErSdOB1SQMB0vtVzW0cEVMjYkxEjOnfv38HDm9mZs1pLfEfKGltelsHjCw8lrS2rR1HxD9ExKCIGAKcDvwuIr4C3Aucla52FnDPVr4HMzNrhxa7eiKiS0bHvA6YJekcoAE4NaPjmJlZM8oyhWJEzOejK39XA0eX47hmZvZJpYzjNzOzGuLEb2ZWZ5z4zczqjBO/mVmdceK3slu1diOn3fQoq3w1rVkunPit7Fwu2SxfZRnOaQYul2xWKdzit7JxuWSzyuDEb2XjcslmlcFdPVZWLpdslj9FVP70uWPGjImFCxfmHYaZWVWRtCgixjRd7q4eM7M648RvZlZnnPjNzOqME7+ZWZ1x4jczqzNO/GZmdSazxC+ph6THJT0t6XlJ30uX95E0V9Ky9H6nrGKoRa0VOMur+JmLrplVlyxb/O8BR0XEgcAo4HOSDgGmAPMiYigwL31uJWqtwFlexc9cdM2supTlAi5JvYBHgG8BvwQmRMRKSQOB+RExrLXtfQHXJwucFXTvmnx3t/RalsXPWovJRdfM8pfLBVySukh6ClgFzI2IBcDOEbESIL0f0MK2kyUtlLSwsbExyzCrQmsFzvIqfuaia2bVKdPEHxFbImIUMAgYK+mAdmw7NSLGRMSY/v37ZxZjtWitwFlexc9cdM2sOpWlSFtErJE0H/gc8LqkgUVdPavKEUMtaK3AWV7Fz1x0zaz6ZNbHL6k/sClN+j2BOcD1wN8CqyPiOklTgD4RcWlr+3Ifv5lZ+7XUx59li38gME1SF5IupVkRcZ+kR4FZks4BGoBTM4zBzMyayCzxR8QzwOhmlq8Gjs7quNY5Vq3dyLdnLubGM0a7z96sxvjKXWuWx+ab1S7PwGUf4wnRzWqfW/z2MR6bb1b7nPjtYzw236z2OfHXkM4qllYYmz/7vMOYNG4PGte/10kRmlkl8GTrNeSK2c8y4/EGJo0dzDWnjMg7HDPLWR7j+OtWuYdC+oSsmbWHu3oyUO6hkD4ha2bt4RZ/J8qr5e0TsmbWHm7xd6I8W94+IWtmpXKLvxPl2fK+6cyPzt9cc3LJ1a/NrA458Xcylyk2s0rn4ZxmZjUql6kXzcys8jjxV5nOujrXzOqXE3+VcblkM9tamZ3clbQ78EtgF+ADYGpE/EhSH+BOYAiwHDgtIt7KKo6OqrSJSHx1rpl1lixb/JuBv4+I4cAhwPmS9gOmAPMiYigwL31ecSqtZe2rc82ss2Q59eJKYGX6eJ2kJcBuwEnAhHS1acB84LKs4mivSm1Z++pcM+ssZenjlzSEZP7dBcDO6ZdC4cthQAvbTJa0UNLCxsbGcoQJVHbL2lfnmllnyPwCLknbA3cDF0fEWkklbRcRU4GpkIzjzy7Cj6vklrWvzjWzzpBp4pfUjSTpz4iIX6eLX5c0MCJWShoIrMoyho7w1bdmVssyu3JXSdN+GvBmRFxctPz7wOqIuE7SFKBPRFza2r585a6ZWfvlMRHLYcCZwLOSnkqXXQ5cB8ySdA7QAJyaYQxmZtZElqN6HgFa6tA/OqvjFqu0sfhmZpWgpq/crbSx+GZmlaAmyzJX6lh8M7NKUJMt/koei29mlreaTPyVPBbfzCxvNdnVAx6Lb2bWEs/AZWZWozwDl5mZAU78ZmZ1x4nfzKzOOPGbmdUZJ34zszrjxG9mVmeqYjinpEbg5RJX7we8kWE4HeW4SleJMUFlxlWJMUFlxlWJMUG2ce0REf2bLqyKxN8ekhY2N241b46rdJUYE1RmXJUYE1RmXJUYE+QTl7t6zMzqjBO/mVmdqcXEPzXvAFrguEpXiTFBZcZViTFBZcZViTFBDnHVXB+/mZm1rhZb/GZm1gonfjOzOlMziV/SLyStkvRc3rEUk7S7pN9LWiLpeUkXVUBMPSQ9LunpNKbv5R1TgaQukhZLui/vWAokLZf0rKSnJFVMfXBJO0q6S9IL6d/X+JzjGZZ+RoXbWkkX5xlTgaTvpH/rz0maKSn3WZkkXZTG83y5P6ea6eOXdASwHvhlRByQdzwFkgYCAyPiSUm9gUXAyRHxpxxjErBdRKyX1A14BLgoIh7LK6YCSZcAY4AdIuL4vOOBJPEDYyKioi7+kTQNeDgibpa0LdArItbkHBaQfIEDrwDjIqLUiy+zimU3kr/x/SLiXUmzgN9GxG05xnQAcAcwFngfeAD4VkQsK8fxa6bFHxF/AN7MO46mImJlRDyZPl4HLAF2yzmmiIj16dNu6S33FoCkQcAXgZvzjqXSSdoBOAK4BSAi3q+UpJ86Gvhz3km/SFegp6SuQC/g1ZzjGQ48FhEbImIz8BBwSrkOXjOJvxpIGgKMBhbkHEqhS+UpYBUwNyJyjwn4V+BS4IOc42gqgDmSFkmanHcwqb2ARuDWtGvsZknb5R1UkdOBmXkHARARrwA/ABqAlcDbETEn36h4DjhCUl9JvYAvALuX6+BO/GUiaXvgbuDiiFibdzwRsSUiRgGDgLHpT8/cSDoeWBURi/KMowWHRcRBwOeB89Nuxbx1BQ4CfhYRo4F3gCn5hpRIu51OBH6VdywAknYCTgL2BHYFtpP0lTxjioglwPXAXJJunqeBzeU6vhN/GaT96HcDMyLi13nHUyztHpgPfC7fSDgMODHtT78DOErS9HxDSkTEq+n9KmA2Sb9s3lYAK4p+qd1F8kVQCT4PPBkRr+cdSOoY4C8R0RgRm4BfA4fmHBMRcUtEHBQRR5B0U5elfx+c+DOXnki9BVgSET/MOx4ASf0l7Zg+7knyH+OFPGOKiH+IiEERMYSkm+B3EZFrqwxA0nbpSXnSrpRjSX6m5yoiXgP+KmlYuuhoILcBA018mQrp5kk1AIdI6pX+fzya5FxbriQNSO8HA1+ijJ9Z13IdKGuSZgITgH6SVgBXRcQt+UYFJC3ZM4Fn0z51gMsj4rf5hcRAYFo68mIbYFZEVMzwyQqzMzA7yRd0BW6PiAfyDelDFwAz0q6Vl4Czc46HtL/6s8A3846lICIWSLoLeJKkO2UxlVG+4W5JfYFNwPkR8Va5DlwzwznNzKw07uoxM6szTvxmZnXGid/MrM448ZuZ1RknfjOzOuPEb1VJ0vomz78q6cYyHv8QSQvSKpRLJF2dLp8gqd0XB0m6TdLfpY9vlrRfO7adUEnVTK3y1cw4frPOIKlLRGwpYdVpwGkR8XR6PUThQqoJJFVi/9jRGCLi6x3d1qwUbvFbzZG0h6R5kp5J7wenyz9sVafP16f3E9I5E24nudBuO0n3p/MVPCdpYjOHGUBS8KtQ9+hPaRG+c4HvpL8EPtPKMSXpRkl/knR/ur/COvMljUkfHyvpUUlPSvpVWvMJSZ9TUof/EZKrPs1K5sRv1aqniib9AP656LUbSeZlGAnMAH5cwv7GAv8YEfuR1C16NSIOTOd2aO5K3RuAFyXNlvRNST0iYjnw78ANETEqIh5u5XinkPxKGAF8g2Zqx0jqB1wBHJMWiVsIXKJkEpGfAycAnwF2KeH9mX3Iid+q1btpch2VVhm9sui18cDt6eP/AA4vYX+PR8Rf0sfPAsdIul7SZyLi7aYrR8Q/k0wYMwc4g+a/HFpzBDAz/bXwKvC7ZtY5BNgP+H/pl9tZwB7AviRFx5ZFcul9RRSzs+rhxG/1oFCXZDPp33xarGvbonXe+XDliKXAp0m+AP6PpOIvFYrW+3NE/Iyk6NeBad2Vplo7Zlv1UkQyV0LhC26/iDinxG3NWuTEb7XojyQVPgEmkUy7B7CcJKFDUp+9W3MbS9oV2BAR00km8PhEuWNJX0wTOcBQYAuwBlgH9C5ataVj/gE4PZ0QZyBwZDOhPAYcJmmf9Ji9JP0NSSXVPSXtna735ebeh1lLPKrHatGFwC8kfZdklqpC1cqfA/dIehyYR1Erv4kRwPclfUBSOfFbzaxzJnCDpA0krfpJEbFF0n8Cd0k6iaR6ZkvHnA0cRfKrYinJ1HsfExGNkr4KzJTUPV18RUQsVTIT2P2S3iD5YquYeaat8rk6p5lZnXFXj5lZnXHiNzOrM078ZmZ1xonfzKzOOPGbmdUZJ34zszrjxG9mVmf+PwcyBBaTcrgXAAAAAElFTkSuQmCC\n",
      "text/plain": [
       "<Figure size 432x288 with 1 Axes>"
      ]
     },
     "metadata": {
      "needs_background": "light"
     },
     "output_type": "display_data"
    }
   ],
   "source": [
    "#plotting the scores\n",
    "dataset.plot(x='Hours', y='Scores', style='*')  \n",
    "plt.title('Hours vs Percentage')  \n",
    "plt.xlabel('Hours Studied')  \n",
    "plt.ylabel('Percentage Score')  \n",
    "plt.show()"
   ]
  },
  {
   "cell_type": "code",
   "execution_count": 5,
   "id": "25c01853",
   "metadata": {},
   "outputs": [],
   "source": [
    "#extracting features and labels of the data set\n",
    "x = dataset.iloc[:,:-1].values\n",
    "y = dataset.iloc[:,1].values"
   ]
  },
  {
   "cell_type": "code",
   "execution_count": 6,
   "id": "d295116d",
   "metadata": {},
   "outputs": [],
   "source": [
    "#spliting data into train and test \n",
    "from sklearn.model_selection import train_test_split\n",
    "x_train , x_test, y_train , y_test = train_test_split(x , y , test_size = 0.2 , random_state= 42)"
   ]
  },
  {
   "cell_type": "code",
   "execution_count": 7,
   "id": "fa670e0f",
   "metadata": {},
   "outputs": [
    {
     "data": {
      "text/plain": [
       "array([[2.7],\n",
       "       [3.3],\n",
       "       [5.1],\n",
       "       [3.8],\n",
       "       [1.5],\n",
       "       [3.2],\n",
       "       [4.5],\n",
       "       [8.9],\n",
       "       [8.5],\n",
       "       [3.5],\n",
       "       [2.7],\n",
       "       [1.9],\n",
       "       [4.8],\n",
       "       [6.1],\n",
       "       [7.8],\n",
       "       [5.5],\n",
       "       [7.7],\n",
       "       [1.1],\n",
       "       [7.4],\n",
       "       [9.2]])"
      ]
     },
     "execution_count": 7,
     "metadata": {},
     "output_type": "execute_result"
    }
   ],
   "source": [
    "x_train"
   ]
  },
  {
   "cell_type": "code",
   "execution_count": 8,
   "id": "a0ef3b39",
   "metadata": {},
   "outputs": [
    {
     "data": {
      "text/plain": [
       "LinearRegression()"
      ]
     },
     "execution_count": 8,
     "metadata": {},
     "output_type": "execute_result"
    }
   ],
   "source": [
    "#creating and training the model\n",
    "from sklearn.linear_model import LinearRegression\n",
    "model = LinearRegression()\n",
    "model.fit(x_train , y_train)"
   ]
  },
  {
   "cell_type": "code",
   "execution_count": 9,
   "id": "6d74edc8",
   "metadata": {},
   "outputs": [
    {
     "name": "stdout",
     "output_type": "stream",
     "text": [
      "[[8.3]\n",
      " [2.5]\n",
      " [2.5]\n",
      " [6.9]\n",
      " [5.9]]\n"
     ]
    }
   ],
   "source": [
    "#predicting using the model\n",
    "print(x_test)\n",
    "yp= model.predict(x_test)"
   ]
  },
  {
   "cell_type": "code",
   "execution_count": 10,
   "id": "ad63eda7",
   "metadata": {},
   "outputs": [
    {
     "data": {
      "text/html": [
       "<div>\n",
       "<style scoped>\n",
       "    .dataframe tbody tr th:only-of-type {\n",
       "        vertical-align: middle;\n",
       "    }\n",
       "\n",
       "    .dataframe tbody tr th {\n",
       "        vertical-align: top;\n",
       "    }\n",
       "\n",
       "    .dataframe thead th {\n",
       "        text-align: right;\n",
       "    }\n",
       "</style>\n",
       "<table border=\"1\" class=\"dataframe\">\n",
       "  <thead>\n",
       "    <tr style=\"text-align: right;\">\n",
       "      <th></th>\n",
       "      <th>Actual</th>\n",
       "      <th>Predicted</th>\n",
       "    </tr>\n",
       "  </thead>\n",
       "  <tbody>\n",
       "    <tr>\n",
       "      <th>0</th>\n",
       "      <td>81</td>\n",
       "      <td>83.188141</td>\n",
       "    </tr>\n",
       "    <tr>\n",
       "      <th>1</th>\n",
       "      <td>30</td>\n",
       "      <td>27.032088</td>\n",
       "    </tr>\n",
       "    <tr>\n",
       "      <th>2</th>\n",
       "      <td>21</td>\n",
       "      <td>27.032088</td>\n",
       "    </tr>\n",
       "    <tr>\n",
       "      <th>3</th>\n",
       "      <td>76</td>\n",
       "      <td>69.633232</td>\n",
       "    </tr>\n",
       "    <tr>\n",
       "      <th>4</th>\n",
       "      <td>62</td>\n",
       "      <td>59.951153</td>\n",
       "    </tr>\n",
       "  </tbody>\n",
       "</table>\n",
       "</div>"
      ],
      "text/plain": [
       "   Actual  Predicted\n",
       "0      81  83.188141\n",
       "1      30  27.032088\n",
       "2      21  27.032088\n",
       "3      76  69.633232\n",
       "4      62  59.951153"
      ]
     },
     "execution_count": 10,
     "metadata": {},
     "output_type": "execute_result"
    }
   ],
   "source": [
    "#comparing Actual vs Predicted\n",
    "df = pd.DataFrame({'Actual': y_test, 'Predicted': yp})  \n",
    "df "
   ]
  },
  {
   "cell_type": "code",
   "execution_count": 11,
   "id": "cd92d3a3",
   "metadata": {},
   "outputs": [
    {
     "data": {
      "image/png": "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\n",
      "text/plain": [
       "<Figure size 432x288 with 1 Axes>"
      ]
     },
     "metadata": {
      "needs_background": "light"
     },
     "output_type": "display_data"
    }
   ],
   "source": [
    "#plotting the regression line\n",
    "line = model.coef_*x+model.intercept_\n",
    "\n",
    "#plotting for the test data\n",
    "plt.scatter(x, y, color='purple', marker='*')\n",
    "plt.plot(x, line);\n",
    "plt.show()"
   ]
  },
  {
   "cell_type": "code",
   "execution_count": 12,
   "id": "10ebcca6",
   "metadata": {},
   "outputs": [
    {
     "name": "stdout",
     "output_type": "stream",
     "text": [
      "3.9207511902099244\n"
     ]
    }
   ],
   "source": [
    "#import library to check accuracy\n",
    "from sklearn.metrics import mean_absolute_error\n",
    "score = mean_absolute_error(y_test , yp)\n",
    "print(score)"
   ]
  },
  {
   "cell_type": "code",
   "execution_count": 13,
   "id": "4f43a124",
   "metadata": {},
   "outputs": [
    {
     "name": "stdout",
     "output_type": "stream",
     "text": [
      "Student studies for 9.25 hrs/day\n",
      "Score of student = 92.38611528261494\n"
     ]
    }
   ],
   "source": [
    "#test with hours = 9.25\n",
    "hr = num.array([9.25]).reshape(1, -1)\n",
    "p= model.predict(hr)\n",
    "print(\"Student studies for 9.25 hrs/day\")\n",
    "print(\"Score of student = {}\".format(p[0]))"
   ]
  },
  {
   "cell_type": "markdown",
   "id": "2c527578",
   "metadata": {},
   "source": [
    "# RESULT\n",
    "𝗜𝗳 𝗮 𝘀𝘁𝘂𝗱𝗲𝗻𝘁 𝘀𝘁𝘂𝗱𝗶𝗲𝘀 𝗳𝗼𝗿 𝟗.𝟐𝟓 𝗵𝗼𝘂𝗿𝘀 𝗽𝗲𝗿 𝗱𝗮𝘆 𝘁𝗵𝗲 𝗵𝗲 𝘀𝗰𝗼𝗿𝗲𝘀 𝟗𝟐.𝟑𝟖𝟔𝟏𝟏."
   ]
  },
  {
   "cell_type": "code",
   "execution_count": null,
   "id": "dcbe1291",
   "metadata": {},
   "outputs": [],
   "source": []
  }
 ],
 "metadata": {
  "kernelspec": {
   "display_name": "Python 3 (ipykernel)",
   "language": "python",
   "name": "python3"
  },
  "language_info": {
   "codemirror_mode": {
    "name": "ipython",
    "version": 3
   },
   "file_extension": ".py",
   "mimetype": "text/x-python",
   "name": "python",
   "nbconvert_exporter": "python",
   "pygments_lexer": "ipython3",
   "version": "3.9.7"
  }
 },
 "nbformat": 4,
 "nbformat_minor": 5
}
